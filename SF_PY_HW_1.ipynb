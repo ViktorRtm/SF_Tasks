{
  "nbformat": 4,
  "nbformat_minor": 0,
  "metadata": {
    "colab": {
      "provenance": [],
      "collapsed_sections": []
    },
    "kernelspec": {
      "name": "python3",
      "display_name": "Python 3"
    },
    "language_info": {
      "name": "python"
    }
  },
  "cells": [
    {
      "cell_type": "markdown",
      "source": [
        "****\n",
        "**Задание 1.**\n",
        "\n",
        "Студент магистратуры обычно спит ночью XX часов и устраивает себе днем тихий час на YY минут. Определите, сколько всего студент спит в сутки (если вообще спит). Программа должна принимать значения XX и YY из стандартного потока ввода (функция input), результат надо выводить в стандартный поток вывода (функция print).\n",
        "\n",
        "\n",
        "```\n",
        "Sample Input 1:\n",
        "7\n",
        "30\n",
        "Sample Output 1:\n",
        "450\n",
        "\n",
        "Sample Input 2:\n",
        "0\n",
        "42\n",
        "Sample Output 2:\n",
        "42\n",
        "```\n"
      ],
      "metadata": {
        "id": "7a_LLXLjCeMS"
      }
    },
    {
      "cell_type": "code",
      "source": [
        "# Решение задания №1\n",
        "booln = False # Переменная для повторения цикла, в случае появления отрицательных чисел и ValueError\n",
        "\n",
        "\n",
        "while booln == False: # Цикл для исключения отрицательных чисел и ValueError\n",
        "  try: \n",
        "    night_time_hours = int(input('Введите сколько часов студент спал ночью - ',))\n",
        "    if night_time_hours < 0:\n",
        "      print('Вы ввели отрицательное значение. Давайте попробуем снова. В этот раз надо ввести число больше либо, равное 0')\n",
        "    else:\n",
        "      while booln == False: # Исключаем отрицательные значения\n",
        "        day_time_minutes = int(input('Введите сколько минут студент спал днем - ',))\n",
        "        if day_time_minutes < 0:\n",
        "          print('Вы ввели отрицательное значение. Давайте попробуем снова. В этот раз надо ввести число больше либо, равное 0')\n",
        "        else:\n",
        "          booln = True\n",
        "  except ValueError:\n",
        "    print('Вы ввели неверное значение. Давайте попробуем снова. В этот раз надо ввести число')\n",
        "  # Просим пользователя ввести значения, отлавливаем отрицательные значения и ValueError\n",
        "\n",
        "night_time_minutes = night_time_hours * 60 \n",
        "sum_time_minutes = night_time_minutes + day_time_minutes\n",
        "\n",
        "if sum_time_minutes == 0:\n",
        "  print('Сегодня студент совсем не спал')\n",
        "else:\n",
        "  print(f'Сегодня студент спал {sum_time_minutes // 60} ч. и {sum_time_minutes % 60} мин.')\n",
        "# Проверяем спал ли студент, если не спал выводим соответствующее сообщение.\n",
        "# Если спал, тогда выводим сколько спал\n"
      ],
      "metadata": {
        "colab": {
          "base_uri": "https://localhost:8080/"
        },
        "id": "OBBE5978cCVr",
        "outputId": "a4788c00-4eb7-4516-822e-a89bf2bfa6c1"
      },
      "execution_count": null,
      "outputs": [
        {
          "output_type": "stream",
          "name": "stdout",
          "text": [
            "Введите сколько часов студент спал ночью - -5\n",
            "Вы ввели отрицательное значение. Давайте попробуем снова. В этот раз надо ввести число больше либо, равное 0\n",
            "Введите сколько часов студент спал ночью - 5\n",
            "Введите сколько минут студент спал днем - -300\n",
            "Вы ввели отрицательное значение. Давайте попробуем снова. В этот раз надо ввести число больше либо, равное 0\n",
            "Введите сколько минут студент спал днем - 110\n",
            "Сегодня студент спал 6 ч. и 50 мин.\n"
          ]
        }
      ]
    },
    {
      "cell_type": "markdown",
      "source": [
        "****\n",
        "**Задание 2**\n",
        "\n",
        "Студент МФТИ каждый день ложится спать ровно в полночь и недавно узнал, что оптимальное время для его сна составляет XX минут. Он хочет поставить себе будильник так, чтобы он прозвенел ровно через XX минут после полуночи, однако для этого необходимо указать время сигнала в формате часы, минуты. Помогите студенту определить, на какое время завести будильник.\n",
        "Часы и минуты в выводе программы должны располагаться на разных строках\n",
        "\n",
        "```\n",
        "Sample Input 1:\n",
        "480\n",
        "Sample Output 1:\n",
        "8\n",
        "0\n",
        "\n",
        "Sample Input 2:\n",
        "512\n",
        "Sample Output 2:\n",
        "8\n",
        "32\n",
        "```\n"
      ],
      "metadata": {
        "id": "v_npn-j3C8jg"
      }
    },
    {
      "cell_type": "code",
      "source": [
        "# Решение задания №2\n",
        "booln = False # Переменная для повторения цикла, в случае появления неподходящих значений и ValueError\n",
        "\n",
        "\n",
        "while booln == False: # Цикл для исключения неподходящих значений и ValueError\n",
        "  try: \n",
        "    sleep_time = int(input('Введите значение в минутах, сколько студент хочет поспать - ',))\n",
        "    if sleep_time < 0:\n",
        "      print('Вы ввели отрицательное значение. Давайте попробуем снова. В этот раз надо ввести число больше либо, равное 0')\n",
        "    elif sleep_time >= 1440:\n",
        "      print(f'Это уже будильник на {sleep_time // 1440} д. вперед \\n Давайте определимся с текщим днем')\n",
        "    else:\n",
        "      booln = True\n",
        "  except ValueError:\n",
        "    print('Вы ввели неверное значение. Давайте попробуем снова. В этот раз надо ввести число')\n",
        "  # Просим пользователя ввести значения, отлавливаем отрицательные значения, значения больше 24ч ValueError\n",
        "\n",
        "print(f'Требуется завести будильник на: {sleep_time // 60} ч. \\n {sleep_time % 60: 33d} мин.')"
      ],
      "metadata": {
        "colab": {
          "base_uri": "https://localhost:8080/"
        },
        "id": "geDY9Bcz7LuS",
        "outputId": "df83036b-5fd0-460f-df7d-a3e19c9e36b1"
      },
      "execution_count": null,
      "outputs": [
        {
          "output_type": "stream",
          "name": "stdout",
          "text": [
            "Введите значение в минутах, сколько студент хочет поспать - -500\n",
            "Вы ввели отрицательное значение. Давайте попробуем снова. В этот раз надо ввести число больше либо, равное 0\n",
            "Введите значение в минутах, сколько студент хочет поспать - 5000\n",
            "Это уже будильник на 3 д. вперед \n",
            " Давайте определимся с текщим днем\n",
            "Введите значение в минутах, сколько студент хочет поспать - 700\n",
            "Требуется завести будильник на: 11 ч. \n",
            "                                40 мин.\n"
          ]
        }
      ]
    },
    {
      "cell_type": "markdown",
      "source": [
        "****\n",
        "**Задание 3**\n",
        "\n",
        "Студент программы “Анализ данных в медицине” узнал, что ему для сна надо XX минут. В отличие от студента МФТИ, наш студент ложится спать после полуночи в HH часов и MM минут. Помогите определить, на какое время ему поставить будильник, чтобы он прозвенел ровно через XX минут после того, как он ляжет спать.\n",
        "На стандартный ввод, каждое в своей строке, подаются значения XX, HH и MM. Гарантируется, что студент программы “Fнализ данных в медицине” должен проснуться в тот же день, что и заснуть. Программа должна выводить время, на которое нужно поставить будильник: в первой строке часы, во второй — минуты.\n",
        "\n",
        "```\n",
        "Sample Input 1:\n",
        "480\n",
        "1\n",
        "2\n",
        "Sample Output 1:\n",
        "9\n",
        "2\n",
        "Sample Input 2:\n",
        "475\n",
        "1\n",
        "55\n",
        "Sample Output 2:\n",
        "9\n",
        "50\n",
        "\n",
        "```"
      ],
      "metadata": {
        "id": "Vxj4YJbkDMu7"
      }
    },
    {
      "cell_type": "code",
      "source": [
        "# Решение задания №3\n",
        "booln = 0 # Переменная для повторения цикла проверки вводимых значений значений и отлова ValueError\n",
        "sleep_time_bool = 0 # Для цила провеки соответствия времени сна\n",
        "hours_time_asleep_bool = 0 # Для цила провеки соответствия времени во сколько часов лечь\n",
        "minutes_time_asleep_bool = 0 # Для цила провеки соответствия времени во сколько минут лечь\n",
        "\n",
        "\n",
        "def check_sleep_time (sleep_time_var:int) -> int: \n",
        "  if sleep_time_var < 0:\n",
        "    print('Вы ввели отрицательное значение. Давайте попробуем снова. В этот раз надо ввести число больше 0, либо равное 1440')\n",
        "    return 0\n",
        "  elif sleep_time_var >= 1440:\n",
        "    print(f'Это уже будильник на {sleep_time_var // 1440} д. вперед\\nДавайте определимся с текущим днем')\n",
        "    return 0\n",
        "  else:\n",
        "    return 1\n",
        "# Проверяем, что введенное значени больше 0 и меньше 1440 в минутах\n",
        "\n",
        "def check_hours_time_asleep (hours_time_asleep_var:int, sleep_time_var:int) -> int:\n",
        "  if hours_time_asleep_var < 0 or hours_time_asleep_var >= 24:\n",
        "    print('Вы ввели отрицательное значение, либо больше чем 24. Давайте попробуем снова. В этот раз надо ввести число больше 0, но меньше 24')\n",
        "    return 0\n",
        "  elif (hours_time_asleep_var * 60 + sleep_time) >= 1440:\n",
        "    print('Подъем выпадает не на сегодня. Давайте попробуем уменьшить время сна, либо надо лечь пораньше')\n",
        "    return 2\n",
        "  else:\n",
        "    return 1\n",
        "# Проверяем, что введенное значени больше 0 и сумма времени сна с временем когда лег, меньше 1440 в минутах\n",
        "\n",
        "def check_minutes_time_asleep (minutes_time_asleep_var:int, hours_time_asleep_var:int, sleep_time_var:int) -> int:\n",
        "  if minutes_time_asleep_var < 0:\n",
        "    print('Вы ввели отрицательное значение. Давайте попробуем снова. В этот раз надо ввести число больше 0, но меньше 59')\n",
        "    return 0\n",
        "  elif minutes_time_asleep_var >= 60:\n",
        "    print('Диапазон минут от 0 до 59. Давайте попробуем снова. В этот раз введите корректно')\n",
        "    return 0\n",
        "  elif (hours_time_asleep_var * 60 + sleep_time_var + minutes_time_asleep_var) >= 1440:\n",
        "    print('Подъем выпадает не на сегодня. Давайте попробуем уменьшить время сна, либо надо лечь пораньше')\n",
        "    return 2\n",
        "  else:\n",
        "    return 1\n",
        "# Проверяем, что введенное значени больше 0 и сумма времени сна с временем когда лег, меньше 1440 в минутах\n",
        "\n",
        "\n",
        "while booln == 0: # Цикл для исключения неподходящих значений и ValueError\n",
        "  try: \n",
        "    while sleep_time_bool != 1: # Проверка времени сколько он хочет спать\n",
        "      hours_time_asleep_bool = 0\n",
        "      sleep_time = int(input('Введите значение в минутах, сколько студент хочет поспать - ',))\n",
        "      sleep_time_bool = check_sleep_time(sleep_time) # вызов функции check_sleep_time\n",
        "    while hours_time_asleep_bool != 1: # Проверка соответствует ли выбранное время во сколько леч\n",
        "      hours_time_asleep = int(input('Введите во сколько часов лег студент - ',))\n",
        "      hours_time_asleep_bool = check_hours_time_asleep(hours_time_asleep, sleep_time) # вызов функции check_hours_time_asleep\n",
        "      if hours_time_asleep_bool == 2:\n",
        "        booln = 0  \n",
        "        sleep_time_bool = 0\n",
        "        break          \n",
        "      elif hours_time_asleep_bool == 0:\n",
        "        booln = 0  \n",
        "      else:\n",
        "        while minutes_time_asleep_bool != 1: # Проверка уже с учетом минут\n",
        "          minutes_time_asleep = int(input('Введите во сколько минут лег студент - ',))\n",
        "          minutes_time_asleep_bool = check_minutes_time_asleep(minutes_time_asleep, hours_time_asleep, sleep_time) # вызов функции check_minutes_time_asleep\n",
        "          if minutes_time_asleep_bool == 2:\n",
        "            booln = 0\n",
        "            sleep_time_bool = 0\n",
        "            break\n",
        "          elif minutes_time_asleep_bool == 1:\n",
        "            booln = 1\n",
        "  except ValueError:\n",
        "    print('Вы ввели неверное значение. Давайте попробуем снова. В этот раз надо ввести число')\n",
        "# Просим пользователя ввести значения, отлавливаем отрицательные значения, значения больше 24ч ValueError  \n",
        "\n",
        "print(f'Требуется завести будильник на: {(hours_time_asleep * 60 + sleep_time + minutes_time_asleep) // 60} ч. \\n {(hours_time_asleep * 60 + sleep_time + minutes_time_asleep) % 60: 27d} мин.')"
      ],
      "metadata": {
        "colab": {
          "base_uri": "https://localhost:8080/"
        },
        "id": "0dnDaxLvxFx5",
        "outputId": "1237b368-86f7-4dca-936e-8306d49cb4ff"
      },
      "execution_count": null,
      "outputs": [
        {
          "output_type": "stream",
          "name": "stdout",
          "text": [
            "Введите значение в минутах, сколько студент хочет поспать - 645\n",
            "Введите во сколько часов лег студент - 15\n",
            "Подъем выпадает не на сегодня. Давайте попробуем уменьшить время сна, либо надо лечь пораньше\n",
            "Введите значение в минутах, сколько студент хочет поспать - 2\n",
            "Введите во сколько часов лег студент - 2\n",
            "Введите во сколько минут лег студент - 22\n",
            "Требуется завести будильник на: 13 ч. \n",
            "                                 7 мин.\n"
          ]
        }
      ]
    },
    {
      "cell_type": "markdown",
      "source": [
        "****\n",
        "**Задание 4**\n",
        "\n",
        "Напишите программу, на вход которой подается список чисел одной строкой. Программа должна для каждого элемента этого списка вывести сумму двух его соседей. Для элементов списка, являющихся крайними, одним из соседей считается элемент, находящийся на противоположном конце этого списка. Например, если на вход подаётся список \"1 3 5 6 10\", то на выход ожидается список \"13 6 9 15 7\" (без кавычек).\n",
        "\n",
        "Если на вход пришло только одно число, надо вывести его же.\n",
        "Вывод должен содержать одну строку с числами нового списка, разделенными пробелом.\n",
        "\n",
        "\n",
        "```\n",
        "Sample Input 1:\n",
        "1 3 5 6 10\n",
        "Sample Output 1:\n",
        "13 6 9 15 7\n",
        "Sample Input 2:\n",
        "10\n",
        "Sample Output 2:\n",
        "10\n",
        "```\n"
      ],
      "metadata": {
        "id": "7g7d57UYDgj5"
      }
    },
    {
      "cell_type": "code",
      "source": [
        "num_array_bool = False # Переменная для цикла с поиска ошибки\n",
        "\n",
        "\n",
        "while num_array_bool == False: # В цикле отлавливаем ошибку, в случа появления просим ввести корректные данные\n",
        "  try:\n",
        "    num_array = list(map(int, input().split())) \n",
        "    if len(num_array) <= 1: # При размере массива = 1 просто выводим массив\n",
        "      print(num_array[0])\n",
        "    else:\n",
        "      for num_index in range(0, len(num_array)): \n",
        "        if num_index != (len(num_array) - 1):\n",
        "          print(num_array[num_index - 1] + num_array[num_index + 1], end = ' ')\n",
        "        else:\n",
        "          print(num_array[num_index - 1] + num_array[0])\n",
        "       # Итеррируемся по каждому идексу массива и выводим сразу сумму \"соседей\"\n",
        "       # Если элемент последний, вторым числом становится 1 элемент   \n",
        "    num_array_bool = True\n",
        "  except ValueError:\n",
        "    print('В ряде чисел присутствует некорректное значение. Давайте попробуем снова. В этот раз надо ввести только числа')\n"
      ],
      "metadata": {
        "colab": {
          "base_uri": "https://localhost:8080/"
        },
        "id": "66UyOm2DEtPK",
        "outputId": "84617572-c6ce-4903-dbca-ba057b5711eb"
      },
      "execution_count": null,
      "outputs": [
        {
          "output_type": "stream",
          "name": "stdout",
          "text": [
            "1 2 3 4 5 6 7\n",
            "9 4 6 8 10 12 7\n"
          ]
        }
      ]
    },
    {
      "cell_type": "markdown",
      "source": [
        "****\n",
        "**Задание 5**\n",
        "\n",
        "Напишите программу, которая принимает на вход список чисел в одной строке и выводит на экран в одну строку значения, которые встречаются в нём более одного раза.\n",
        "\n",
        "Для решения задачи может пригодиться метод sort списка (а может и не пригодиться).\n",
        "\n",
        "Выводимые числа не должны повторяться, порядок их вывода может быть произвольным. Разделитель чисел - пробел\n"
      ],
      "metadata": {
        "id": "C9DdzDwdDvlG"
      }
    },
    {
      "cell_type": "code",
      "source": [
        "num_array_bool = False # Переменная для цикла с поиска ошибки\n",
        "check_num_array = [] # Список для довления числа и проверки его на повтор\n",
        "\n",
        "while num_array_bool == False: # В цикле отлавливаем ошибку, в случа появления просим ввести корректные данные\n",
        "  try:\n",
        "    num_array = list(map(int, input('Введите перчень чисел, который следует проверить - ',).split())) \n",
        "    num_array_bool = True\n",
        "  except ValueError:\n",
        "    print('В ряде чисел присутствует некорректное значение. Давайте попробуем снова. В этот раз надо ввести только числа')\n",
        "\n",
        "sort_num_array = num_array.copy()\n",
        "sort_num_array.sort() # Сортируем список по возрастанию\n",
        "print(sort_num_array)\n",
        "for sort_num_index in range(0, len(sort_num_array)):\n",
        "  if sort_num_index == (len(sort_num_array) - 1) and (sort_num_array[sort_num_index] not in check_num_array):\n",
        "    break\n",
        "  # Если элемент последний и его нет в проверочном списке, завершить цикл    \n",
        "  elif sort_num_index == (len(sort_num_array) - 1) and sort_num_array[sort_num_index] in check_num_array:\n",
        "    print(sort_num_array[sort_num_index])\n",
        "    break\n",
        "  # Если элемент последний и он есть в проверочном списке, вывести на печать и завершить цикл \n",
        "  elif sort_num_array[sort_num_index] not in check_num_array:  \n",
        "    check_num_array.append(sort_num_array[sort_num_index])\n",
        "    continue\n",
        "  # Если элемента с текущим индексом еще нет в проверочном списке - добавить элемент в список, и перейти к следующему\n",
        "  elif sort_num_array[sort_num_index] == sort_num_array[sort_num_index + 1]:\n",
        "    continue\n",
        "  # Если элемента с текущим индексом равен следующему, пропускаем\n",
        "  else: \n",
        "    print(sort_num_array[sort_num_index], end = ' ')"
      ],
      "metadata": {
        "colab": {
          "base_uri": "https://localhost:8080/"
        },
        "id": "7a2htZiQIBcs",
        "outputId": "adbb06a8-f929-4631-994f-53b8b80e5aac"
      },
      "execution_count": 63,
      "outputs": [
        {
          "output_type": "stream",
          "name": "stdout",
          "text": [
            "Введите перчень чисел, который следует проверить - 4 5 2 6 7 5 6 9 4 7 6 2 2 1 9 6 9 10\n",
            "[1, 2, 2, 2, 4, 4, 5, 5, 6, 6, 6, 6, 7, 7, 9, 9, 9, 10]\n",
            "2 4 5 6 7 9 "
          ]
        }
      ]
    },
    {
      "cell_type": "markdown",
      "source": [
        "****\n",
        "**Задание 6**\n",
        "\n",
        "GC-состав является важной характеристикой геномных последовательностей и определяется как процентное соотношение суммы всех гуанинов и цитозинов к общему числу нуклеиновых оснований в геномной последовательности.\n",
        "\n",
        "Напишите программу, которая вычисляет процентное содержание символов G (гуанин) и C (цитозин) в введенной строке (программа не должна зависеть от регистра вводимых символов).\n",
        "Например, в строке \"acggtgttat\" процентное содержание символов G и C равно 4*0.1 * 100 = 40.0, где 4 - это количество символов G и C, а 10 - это длина строки.\n",
        "\n",
        "```\n",
        "Sample Input:\n",
        "acggtgttat\n",
        "Sample Output:\n",
        "40.0\n",
        "```\n"
      ],
      "metadata": {
        "id": "g1S48qv6EHjC"
      }
    },
    {
      "cell_type": "code",
      "source": [
        "per_gen_bool = False # Переменная для цикла с поиска ошибки\n",
        "check_bool = True # Переменная для запуска цикла подсчета\n",
        "acids = ['a', 'c', 'g', 't'] # Список возможных кислов\n",
        "c_sum, g_sum = 0, 0\n",
        "\n",
        "\n",
        "while per_gen_bool == False: # В цикле отлавливаем ошибку, в случа появления просим ввести корректные данные\n",
        "  try:\n",
        "    genom = str(input('Введите геномную последовательность - ',))\n",
        "    genom = genom.lower()\n",
        "    for acid in genom: # Сначала проверяем корректно ли ввели последовательность\n",
        "      if acid not in acids:\n",
        "        print('Во введенной последовательности присутствуют некорректые значения. Давайте введем по новой')\n",
        "        check_bool = False\n",
        "        break\n",
        "      else:\n",
        "        per_gen_bool = True\n",
        "  except ValueError:\n",
        "    print('Введены некорректное значение. Давайте попробуем снова.')\n",
        "\n",
        "if check_bool: # Потом только считаем сколько в ней нужных символов\n",
        "  for acid in genom:\n",
        "    if acid == 'c':\n",
        "      c_sum += 1\n",
        "    elif acid == 'g':\n",
        "      g_sum += 1     \n",
        "  per_gc_gen = (c_sum + g_sum) / len(genom) * 100\n",
        "print(f'Во введенной последовательности {per_gc_gen} % Гуанина и Цитозина')"
      ],
      "metadata": {
        "colab": {
          "base_uri": "https://localhost:8080/"
        },
        "id": "WyyKDBaVuZIk",
        "outputId": "985cd4e5-1789-4fa3-f2a4-f5b92980eadb"
      },
      "execution_count": 10,
      "outputs": [
        {
          "output_type": "stream",
          "name": "stdout",
          "text": [
            "Введите геномную последовательность - acgttg\n",
            "Во введенной последовательности 50.0 % Гуанина и Цитозина\n"
          ]
        }
      ]
    },
    {
      "cell_type": "markdown",
      "source": [
        "****\n",
        "**Задание 7**\n",
        "\n",
        "Узнав, что ДНК не является случайной строкой, только что поступившие в МФТИ студенты группы аналитиков данных предложили использовать алгоритм сжатия, который сжимает повторяющиеся символы в строке.\n",
        "Кодирование осуществляется следующим образом:\n",
        "s = 'aaaabbсaa' преобразуется в 'a4b2с1a2', то есть группы одинаковых символов исходной строки заменяются на этот символ и количество его повторений в этой позиции строки.\n",
        "\n",
        "Напишите программу, которая считывает строку, кодирует её предложенным алгоритмом и выводит закодированную последовательность на стандартный вывод. Кодирование должно учитывать регистр символов.\n",
        "\n",
        "\n",
        "```\n",
        "Sample Input 1:\n",
        "aaaabbcaa\n",
        "Sample Output 1:\n",
        "a4b2c1a2\n",
        "Sample Input 2:\n",
        "abc\n",
        "Sample Output 2:\n",
        "a1b1c1\n",
        "Sample Input 3:\n",
        "AaAaBBBbbbCCc\n",
        "Sample Output 3:\n",
        "A1a1A1a1B3b3C2c1\n",
        "```\n"
      ],
      "metadata": {
        "id": "Hm7d16upETUx"
      }
    },
    {
      "cell_type": "code",
      "source": [
        "per_gen_bool = False # Переменная для цикла с поиска ошибки\n",
        "check_bool = False # Переменная для запуска цикла подсчета\n",
        "acids = ['a', 'c', 'g', 't', 'A', 'C', 'G', 'T'] # Список возможных кислов\n",
        "\n",
        "\n",
        "while per_gen_bool == False: # В цикле отлавливаем ошибку, в случа появления просим ввести корректные данные\n",
        "  try:\n",
        "    genom = str(input('Введите геномную последовательность - ',))\n",
        "    for acid in genom: # Сначала проверяем корректно ли ввели последовательность\n",
        "      if acid not in acids:\n",
        "        print('Во введенной последовательности присутствуют некорректые значения. Давайте введем по новой')\n",
        "        check_bool = False\n",
        "        per_gen_bool = False\n",
        "        break\n",
        "      check_bool = True\n",
        "      per_gen_bool = True \n",
        "  except ValueError:\n",
        "    print('Введены некорректное значение. Давайте попробуем снова.')\n",
        "\n",
        "if check_bool: \n",
        "  genom_array = list(genom)\n",
        "  letter_sum = 0\n",
        "  for index_acid in range(0, len(genom)):  \n",
        "    if index_acid == (len(genom) - 1) and genom_array[index_acid] == genom_array[-2]:\n",
        "      letter_sum += 1\n",
        "      print(genom_array[index_acid], letter_sum, sep = '', end = '')\n",
        "    # Если последний элемент во всей последовательност сопадает с предыдущим \n",
        "    # То увеличиваем 1 счетчик и выводим значение\n",
        "    elif index_acid == (len(genom) - 1) and genom_array[index_acid] != genom_array[-2]:\n",
        "      letter_sum = 0\n",
        "      letter_sum += 1\n",
        "      print(genom_array[index_acid], letter_sum, sep = '', end = '')\n",
        "    # Если последний элемент во всей последовательност не сопадает с предыдущим \n",
        "    # То сначала обнуляем счетчик, потом увеличиваем на 1 счетчик и выводим значение\n",
        "    elif genom_array[index_acid] != genom_array[index_acid + 1]:\n",
        "      letter_sum += 1\n",
        "      print(genom_array[index_acid], letter_sum, sep = '', end = '')\n",
        "      letter_sum = 0\n",
        "    # На протяжении всего списка, если текущее значение не совпадает со следующим\n",
        "    # То увеличиваем 1 счетчик и выводим значение, а потом обнуляем его\n",
        "    else:\n",
        "      letter_sum += 1\n"
      ],
      "metadata": {
        "colab": {
          "base_uri": "https://localhost:8080/"
        },
        "id": "4C4jezPUQchn",
        "outputId": "adaaea94-5c88-435d-a330-5ddc83a1643b"
      },
      "execution_count": 9,
      "outputs": [
        {
          "output_type": "stream",
          "name": "stdout",
          "text": [
            "Введите геномную последовательность - asdae\n",
            "Во введенной последовательности присутствуют некорректые значения. Давайте введем по новой\n",
            "Введите геномную последовательность - actgttttgc\n",
            "a1c1t1g1t4g1c1"
          ]
        }
      ]
    },
    {
      "cell_type": "markdown",
      "source": [
        "****\n",
        "**Задание 8**\n",
        "\n",
        "Напишите программу, которая считывает с консоли числа (по одному в строке) до тех пор, пока сумма введённых чисел не будет равна 0 и сразу после этого выводит сумму квадратов всех считанных чисел.\n",
        "Гарантируется, что в какой-то момент сумма введённых чисел окажется равной 0, после этого считывание продолжать не нужно.\n",
        "В примере мы считываем числа 1, -3, 5, -6, -10, 13; в этот момент замечаем, что сумма этих чисел равна нулю и выводим сумму их квадратов, не обращая внимания на то, что остались ещё не прочитанные значения.\n",
        "\n",
        "\n",
        "```\n",
        "Sample Input:\n",
        "1\n",
        "-3\n",
        "5\n",
        "-6\n",
        "-10\n",
        "13\n",
        "4\n",
        "-8\n",
        "Sample Output:\n",
        "340\n",
        "```"
      ],
      "metadata": {
        "id": "Ky16NUTNEpr-"
      }
    },
    {
      "cell_type": "code",
      "source": [
        "sum_square_bool = False # Переменная для цикла с поиска ошибки\n",
        "sum_num = 0\n",
        "sum_num_array = []\n",
        "sum_square = 0\n",
        "\n",
        "while sum_square_bool == False: \n",
        "  try:\n",
        "    num = int(input('Введите число для расчета - ',))\n",
        "    sum_num_array.append(num)\n",
        "    sum_num += num\n",
        "    if sum_num == 0:\n",
        "      sum_square_bool = True\n",
        "  except ValueError:\n",
        "    print('Введены некорректное значение. Давайте попробуем снова.')\n",
        "# В цикле отлавливаем ошибку, в случае появления просим ввести корректные данные\n",
        "# Также сохраняем введенное значение в список\n",
        "\n",
        "for num_array in sum_num_array: # Проходимся по списку, ссумируем квадраты чисел\n",
        "  sum_square += num_array**2\n",
        "print(f'Сумма квадратов все чисел равна - {sum_square}')\n"
      ],
      "metadata": {
        "colab": {
          "base_uri": "https://localhost:8080/"
        },
        "id": "EUDAB5mkM6sY",
        "outputId": "ce1e06a3-88d9-4650-cbd0-69deba97ed76"
      },
      "execution_count": 66,
      "outputs": [
        {
          "output_type": "stream",
          "name": "stdout",
          "text": [
            "Введите число для расчета - -10\n",
            "Введите число для расчета - 5\n",
            "Введите число для расчета - 2\n",
            "Введите число для расчета - 3\n",
            "Сумма квадратов все чисел равна - 138\n"
          ]
        }
      ]
    },
    {
      "cell_type": "markdown",
      "source": [
        "****\n",
        "**Задание 9**\n",
        "\n",
        "Самое время использовать математику. Вы поднимаетесь по лестнице. Количество ступенек в ней = n.\n",
        "\n",
        "На каждом этапе вы можете переступить либо одну, либо две ступеньки. Как много уникальных способов добраться до верха существует?\n",
        "\n",
        "*1<=n<=45*\n",
        "\n",
        "\n",
        "\n",
        "```\n",
        "Input: n = 2\n",
        "Output: 2\n",
        "Explanation: There are two ways to climb to the top.\n",
        "1. 1 step + 1 step\n",
        "2. 2 steps\n",
        "\n",
        "Input: n = 3\n",
        "Output: 3\n",
        "Explanation: There are three ways to climb to the top.\n",
        "1. 1 step + 1 step + 1 step\n",
        "2. 1 step + 2 steps\n",
        "3. 2 steps + 1 step\n",
        "```\n",
        "\n"
      ],
      "metadata": {
        "id": "bPeSnwt4F73y"
      }
    },
    {
      "cell_type": "code",
      "source": [
        "# Это я еще не решил, но решу. Буду благодарен за подсказку, хотя может уже и сам дойду. \n",
        "# Пока, что понял только как разложить число на слогаемые в диапазоне нужного числа, в нашем случаее 2\n",
        "# Понял, что их поиции в наборе надо перебрать, но как чтобы работало как надо еще не понял\n",
        "steps_bool = False # Переменная для цикла с поиска ошибки\n",
        "\n",
        "\n",
        "def kalc_moves(move_kalc_array, all_steps, move_size = 2): \n",
        "  if all_steps: \n",
        "    for i in range(all_steps, 0, -1):\n",
        "      if i <= move_size:\n",
        "        kalc_moves(move_kalc_array+[i], all_steps-i, i)\n",
        "  # Раскладываем на слогаемые в диапазоне до 2      \n",
        "  else:\n",
        "    print(*move_kalc_array, sep=' + ')\n",
        "    for index_move_kalc_array in range(0, len(move_kalc_array)):\n",
        "      if move_kalc_array[index_move_kalc_array - 1] != move_kalc_array[index_move_kalc_array] and :\n",
        "        move_kalc_array[index_move_kalc_array - 1], move_kalc_array[index_move_kalc_array] = move_kalc_array[index_move_kalc_array], move_kalc_array[index_move_kalc_array - 1]\n",
        "        print(*move_kalc_array, sep=' - ')\n",
        "    # Начал попытки подвигать местами числа, переставляя между собой не равные числа\n",
        "# Функция пока раскладывает число на слагаемые и немного двигает их\n",
        "\n",
        "while steps_bool == False: \n",
        "  try:\n",
        "    num = int(input('Введите число ступенек - ',))\n",
        "    if num < 1:\n",
        "      print('Введено значение меньше 0. Давайте попробуем снова. Значение должно быть в диапазоне от 0 до 45 включительно')\n",
        "    elif num > 45:\n",
        "      print('Введено значение больше 45. Давайте попробуем снова. Значение должно быть в диапазоне от 0 до 45 включительно')\n",
        "    else:\n",
        "      steps_bool = True\n",
        "  except ValueError:\n",
        "    print('Введены некорректное значение. Давайте попробуем снова.')\n",
        "# В цикле отлавливаем ошибку, в случае появления просим ввести корректные данные\n",
        "# Также проверяем попадает число в диапазон или нет\n",
        "\n",
        "kalc_moves([], num)"
      ],
      "metadata": {
        "colab": {
          "base_uri": "https://localhost:8080/"
        },
        "id": "dMoHTOxHiq4Z",
        "outputId": "9132915e-c998-445d-9351-aeb7e034fe25"
      },
      "execution_count": 65,
      "outputs": [
        {
          "output_type": "stream",
          "name": "stdout",
          "text": [
            "Введите число ступенек - 5\n",
            "2 + 2 + 1\n",
            "1 - 2 - 2\n",
            "2 - 1 - 2\n",
            "2 - 2 - 1\n",
            "2 + 1 + 1 + 1\n",
            "1 - 1 - 1 - 2\n",
            "1 - 1 - 2 - 1\n",
            "1 + 1 + 1 + 1 + 1\n"
          ]
        }
      ]
    },
    {
      "cell_type": "markdown",
      "source": [
        "****\n",
        "**Задание 10**\n",
        "\n",
        "Напишите функцию, чтобы найти самый длинный префикс в листе, составленном из строк.\n",
        "\n",
        "Если общего префикса нет - верните пустую строку.\n",
        "\n",
        "\n",
        "\n",
        "```\n",
        "Input 1: strs = [\"flower\",\"flow\",\"flight\"]\n",
        "Output 1: \"fl\"\n",
        "\n",
        "Input 2: strs = [\"dog\",\"racecar\",\"car\"]\n",
        "Output 2: \"\"\n",
        "Explanation: There is no common prefix among the input strings.\n",
        "```\n",
        "\n"
      ],
      "metadata": {
        "id": "T8A0EHJTG03s"
      }
    },
    {
      "cell_type": "code",
      "source": [
        "# Это тоже решу, как только разберусь с 9 заданием"
      ],
      "metadata": {
        "id": "xWnfCjMqIF5H"
      },
      "execution_count": null,
      "outputs": []
    },
    {
      "cell_type": "code",
      "source": [],
      "metadata": {
        "id": "XVoqIUXBRBmA"
      },
      "execution_count": null,
      "outputs": []
    }
  ]
}